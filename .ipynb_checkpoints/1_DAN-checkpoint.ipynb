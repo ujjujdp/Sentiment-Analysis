{
 "cells": [
  {
   "cell_type": "code",
   "execution_count": 61,
   "metadata": {
    "id": "hS7TXDxY0Mjx"
   },
   "outputs": [],
   "source": [
    "# Importing necessary packages\n",
    "import spacy\n",
    "import re\n",
    "import numpy as np\n",
    "import matplotlib.pyplot as plt\n",
    "from sklearn.manifold import TSNE\n",
    "nlp = spacy.load('en_core_web_sm')\n",
    "import gensim\n",
    "import io\n",
    "\n",
    "import torch\n",
    "import torch.nn as nn\n",
    "import torch.nn.functional as F\n",
    "from torch import optim\n",
    "from torch.utils.data import TensorDataset, DataLoader, random_split"
   ]
  },
  {
   "cell_type": "markdown",
   "metadata": {},
   "source": [
    "### Loading Train Data"
   ]
  },
  {
   "cell_type": "code",
   "execution_count": 62,
   "metadata": {
    "id": "afNa89WHIFIM"
   },
   "outputs": [],
   "source": [
    "trainPosPath = open(\"./1/pos.txt\",'r')\n",
    "trainNegPath = open(\"./1/neg.txt\",'r')\n",
    "posList = trainPosPath.read().split(\"\\n\")[:5000]\n",
    "negList = trainNegPath.read().split(\"\\n\")[:5000]\n",
    "# print(len(posList))\n",
    "# print(posList[4999])\n",
    "# print(len(negList))\n",
    "# print(negList[4999])"
   ]
  },
  {
   "cell_type": "markdown",
   "metadata": {
    "id": "Oa8iNmR_mi3D"
   },
   "source": [
    "Functions for sentence preprocessing"
   ]
  },
  {
   "cell_type": "code",
   "execution_count": 63,
   "metadata": {
    "id": "W11dc8X_TkgL"
   },
   "outputs": [],
   "source": [
    "def remPunc(text):\n",
    "  if type(text) == str:\n",
    "    text = re.sub('<[^>]*>', '', text)\n",
    "    text = re.sub('[\\W]+', '', text.lower())\n",
    "    return text\n",
    "\n",
    "def refineSentence(tempSentence):\n",
    "  tokens = nlp(tempSentence)\n",
    "  filtered = []\n",
    "  for token in tokens:\n",
    "    textAfterRemPunc = remPunc(token.lemma_)\n",
    "    if(textAfterRemPunc != ''):\n",
    "      filtered.append(textAfterRemPunc)\n",
    "  return filtered "
   ]
  },
  {
   "cell_type": "markdown",
   "metadata": {
    "id": "hfr1rKtlmslg"
   },
   "source": [
    "PreProcessing the Train Data"
   ]
  },
  {
   "cell_type": "code",
   "execution_count": 64,
   "metadata": {
    "id": "gJAHS98tmyFM"
   },
   "outputs": [],
   "source": [
    "posPreProccessedList = [refineSentence(sentence) for sentence in posList]\n",
    "negPreProccessedList = [refineSentence(sentence) for sentence in negList]"
   ]
  },
  {
   "cell_type": "code",
   "execution_count": 65,
   "metadata": {
    "colab": {
     "base_uri": "https://localhost:8080/"
    },
    "id": "I__o5ClNndBG",
    "outputId": "649e54ee-309e-4b73-d0ef-866ab4b5de97"
   },
   "outputs": [
    {
     "name": "stdout",
     "output_type": "stream",
     "text": [
      "['steer', 'turn', 'in', 'a', 'snappy', 'screenplay', 'that', 'curl', 'at', 'the', 'edge', 'it', 'be', 'so', 'clever', 'you', 'want', 'to', 'hate', 'it', 'but', 'he', 'somehow', 'pull', 'it', 'off']\n",
      "['garbus', 'discard', 'the', 'potential', 'for', 'pathological', 'study', 'exhume', 'instead', 'the', 'skewed', 'melodrama', 'of', 'the', 'circumstantial', 'situation']\n"
     ]
    }
   ],
   "source": [
    "print(posPreProccessedList[8])\n",
    "print(negPreProccessedList[3])"
   ]
  },
  {
   "cell_type": "markdown",
   "metadata": {},
   "source": [
    "Getting Word2Vec Embeddings"
   ]
  },
  {
   "cell_type": "code",
   "execution_count": 66,
   "metadata": {},
   "outputs": [],
   "source": [
    "embeddingsWord2Vec = gensim.models.KeyedVectors.load_word2vec_format('/home/ujjawal/word_embeddings/GoogleNews-vectors-negative300.bin', binary=True)\n",
    "# if you vector file is in binary format, change to binary=True"
   ]
  },
  {
   "cell_type": "markdown",
   "metadata": {
    "id": "TQ08lW7oqIyY"
   },
   "source": [
    "Getting GloVe Embeddings"
   ]
  },
  {
   "cell_type": "code",
   "execution_count": 67,
   "metadata": {
    "id": "0oS1pRlVnwzv"
   },
   "outputs": [],
   "source": [
    "embeddingsGloVe = {}\n",
    "dim = 300\n",
    "with open(\"/home/ujjawal/word_embeddings/glove.6B.300d.txt\", 'r', encoding=\"utf-8\") as wordEmbeddings:\n",
    "  for line in wordEmbeddings:\n",
    "    values = line.split()\n",
    "    word = values[0]\n",
    "    vector = np.asarray(values[1:],'float32')\n",
    "    embeddingsGloVe[word]=vector"
   ]
  },
  {
   "cell_type": "markdown",
   "metadata": {},
   "source": [
    "Getting FastText Embeddings"
   ]
  },
  {
   "cell_type": "code",
   "execution_count": 68,
   "metadata": {},
   "outputs": [],
   "source": [
    "def LoadFastText(PATH_TO_FASTTEXT):\n",
    "    input_file = io.open(PATH_TO_FASTTEXT, 'r', encoding='utf-8', newline='\\n', errors='ignore')\n",
    "    no_of_words, vector_size = map(int, input_file.readline().split())\n",
    "    # word_to_vector: Dict[str, List[float]] = dict()\n",
    "    word_to_vector = {}\n",
    "    for i, line in enumerate(input_file):\n",
    "        tokens = line.rstrip().split(' ')\n",
    "        word = tokens[0]\n",
    "        vector = list(map(float, tokens[1:]))\n",
    "        assert len(vector) == vector_size\n",
    "        word_to_vector[word] = vector\n",
    "    return word_to_vector\n",
    "\n",
    "embeddingsFastText = LoadFastText(\"/home/ujjawal/word_embeddings/wiki-news-300d-1M-subword.vec\")"
   ]
  },
  {
   "cell_type": "markdown",
   "metadata": {},
   "source": [
    "### Dynamic Meta Embedding(Averaging the three embeddings)"
   ]
  },
  {
   "cell_type": "code",
   "execution_count": 69,
   "metadata": {},
   "outputs": [],
   "source": [
    "def dynamicMetaEmbedding(word):\n",
    "  c = 0\n",
    "  finalEmbedding = np.zeros(dim)\n",
    "  if word in embeddingsWord2Vec:\n",
    "    finalEmbedding += embeddingsWord2Vec[word]\n",
    "    c += 1\n",
    "  if word in embeddingsGloVe:\n",
    "    finalEmbedding += embeddingsGloVe[word]\n",
    "    c += 1\n",
    "  if word in embeddingsFastText:\n",
    "    finalEmbedding += embeddingsFastText[word]\n",
    "    c += 1\n",
    "  return np.array(finalEmbedding)"
   ]
  },
  {
   "cell_type": "markdown",
   "metadata": {
    "id": "a0EIwX7ohhc8"
   },
   "source": [
    "Function to convert refined sentence to average sentence vector"
   ]
  },
  {
   "cell_type": "code",
   "execution_count": 70,
   "metadata": {
    "id": "oQrbyvxphumm"
   },
   "outputs": [],
   "source": [
    "def sentenceToAvgWordEmbeddings(preProccessedList):\n",
    "  preProccessedListVectors = []\n",
    "  for preProcessedWordList in preProccessedList:\n",
    "    tempList = []\n",
    "    for word in preProcessedWordList:\n",
    "      tempList.append(dynamicMetaEmbedding(word))\n",
    "    preProccessedListVectors.append(tempList)\n",
    "\n",
    "  sentenceVector = []\n",
    "  for vectorsOfWords in preProccessedListVectors:\n",
    "    if(len(vectorsOfWords) == 0):\n",
    "      continue\n",
    "    avgVec = [0 for i in range(dim)]\n",
    "    for wordVec in vectorsOfWords:\n",
    "      avgVec += wordVec\n",
    "    avgVec = [i/len(vectorsOfWords) for i in avgVec]\n",
    "    sentenceVector.append(avgVec)\n",
    "  return sentenceVector"
   ]
  },
  {
   "cell_type": "markdown",
   "metadata": {
    "id": "4AystgdYrFew"
   },
   "source": [
    "Training Data words to Word Vectors"
   ]
  },
  {
   "cell_type": "code",
   "execution_count": 71,
   "metadata": {
    "id": "zqnaV-k5rExL"
   },
   "outputs": [],
   "source": [
    "posSentenceVector = sentenceToAvgWordEmbeddings(posPreProccessedList)\n",
    "negSentenceVector = sentenceToAvgWordEmbeddings(negPreProccessedList)"
   ]
  },
  {
   "cell_type": "code",
   "execution_count": 72,
   "metadata": {
    "colab": {
     "base_uri": "https://localhost:8080/"
    },
    "id": "-RHBzPJqg28P",
    "outputId": "67c41b06-4321-450e-f9c1-cc10541a355f"
   },
   "outputs": [
    {
     "name": "stdout",
     "output_type": "stream",
     "text": [
      "5000\n",
      "5000\n",
      "10000\n"
     ]
    }
   ],
   "source": [
    "lenPos = len(posSentenceVector)\n",
    "lenNeg = len(negSentenceVector)\n",
    "nSamples = lenPos+lenNeg\n",
    "\n",
    "print(lenPos)\n",
    "print(lenNeg)\n",
    "print(nSamples)"
   ]
  },
  {
   "cell_type": "markdown",
   "metadata": {
    "id": "weWb3X47u24z"
   },
   "source": [
    "Appending the labels and shuffling."
   ]
  },
  {
   "cell_type": "code",
   "execution_count": 73,
   "metadata": {
    "id": "1Y-XEy8zu2je"
   },
   "outputs": [],
   "source": [
    "posSentenceVector = np.array(posSentenceVector)\n",
    "posLabel = np.array([1 for i in range(lenPos)]).reshape(lenPos,1)\n",
    "\n",
    "negSentenceVector = np.array(negSentenceVector)\n",
    "negLabel = np.array([0 for i in range(lenNeg)]).reshape(lenNeg,1)"
   ]
  },
  {
   "cell_type": "code",
   "execution_count": 74,
   "metadata": {
    "id": "mVqNYCMTCZ_M"
   },
   "outputs": [],
   "source": [
    "my_x = np.concatenate((posSentenceVector,negSentenceVector), axis = 0)\n",
    "my_y = np.concatenate((posLabel,negLabel), axis = 0)\n",
    "my_y = my_y.reshape((10000))\n",
    "trainSize = int(nSamples*(0.8))\n",
    "valSize = nSamples - trainSize\n",
    "tensor_x = torch.Tensor(my_x) # transform to torch tensor\n",
    "tensor_y = torch.Tensor(my_y)\n",
    "tensor_y = tensor_y.type(torch.LongTensor)\n",
    "trainDatasetTensor = TensorDataset(tensor_x,tensor_y) # create your datset\n",
    "trainData, validData = random_split(trainDatasetTensor, [trainSize,valSize])\n",
    "\n",
    "trainDataLoader = DataLoader(trainData, batch_size = 32)\n",
    "validDataLoader = DataLoader(validData, batch_size = 32)"
   ]
  },
  {
   "cell_type": "code",
   "execution_count": 75,
   "metadata": {
    "colab": {
     "base_uri": "https://localhost:8080/"
    },
    "id": "LkENRSiXtBiw",
    "outputId": "99849a44-9666-49e3-abb5-3241e11461e2"
   },
   "outputs": [
    {
     "name": "stdout",
     "output_type": "stream",
     "text": [
      "torch.Size([10000])\n"
     ]
    }
   ],
   "source": [
    "print(tensor_y.shape)"
   ]
  },
  {
   "cell_type": "markdown",
   "metadata": {
    "id": "GGGObRDzWYtF"
   },
   "source": [
    "t-SNE and Plotting Graph"
   ]
  },
  {
   "cell_type": "code",
   "execution_count": 76,
   "metadata": {
    "id": "AXcsAX0NWWjm"
   },
   "outputs": [],
   "source": [
    "# dataTSNE = np.concatenate((posSentenceVector,negSentenceVector), axis = 0)\n",
    "# tSNE = TSNE(learning_rate = 100)\n",
    "# tSNE_features = tSNE.fit_transform(dataTSNE)"
   ]
  },
  {
   "cell_type": "code",
   "execution_count": 77,
   "metadata": {
    "id": "4aNuUEOeadRA"
   },
   "outputs": [],
   "source": [
    "# print(tSNE_features.shape)\n",
    "# pos_tsne = (tSNE_features[:lenPos]).T\n",
    "# neg_tsne = (tSNE_features[lenPos:]).T\n",
    "# plt.scatter(pos_tsne[0], pos_tsne[1],color = 'b')\n",
    "# plt.scatter(neg_tsne[0], neg_tsne[1],color = 'r')\n",
    "# plt.show()"
   ]
  },
  {
   "cell_type": "markdown",
   "metadata": {
    "id": "inmxViYDm5px"
   },
   "source": [
    "Loading Test Data"
   ]
  },
  {
   "cell_type": "code",
   "execution_count": 78,
   "metadata": {
    "colab": {
     "base_uri": "https://localhost:8080/"
    },
    "id": "UTLUgJj5k2oJ",
    "outputId": "eefa09b0-6859-4fe0-e988-0d093521459b"
   },
   "outputs": [
    {
     "name": "stdout",
     "output_type": "stream",
     "text": [
      "331\n",
      "331\n"
     ]
    }
   ],
   "source": [
    "testPath = open(\"./1/testdata.txt\",'r')\n",
    "testDataList = testPath.read().split(\"\\n\")\n",
    "\n",
    "testPosList = testDataList[:331]\n",
    "testNegList = testDataList[331:]\n",
    "\n",
    "print(len(testPosList))\n",
    "print(len(testNegList))\n",
    "\n",
    "testPosPreProccessedList = [refineSentence(sentence) for sentence in testPosList]\n",
    "testNegPreProccessedList = [refineSentence(sentence) for sentence in testNegList]\n",
    "\n",
    "testPosSentenceVector = sentenceToAvgWordEmbeddings(testPosPreProccessedList)\n",
    "testNegSentenceVector = sentenceToAvgWordEmbeddings(testNegPreProccessedList)\n",
    "\n",
    "testLenPos = len(testPosSentenceVector)\n",
    "testLenNeg = len(testNegSentenceVector)\n",
    "nSamples_test = testLenPos+testLenNeg\n",
    "\n",
    "testPosSentenceVector = np.array(testPosSentenceVector)\n",
    "testPosLabel = np.array([1 for i in range(testLenPos)]).reshape(testLenPos,1)\n",
    "\n",
    "testNegSentenceVector = np.array(testNegSentenceVector)\n",
    "testNegLabel = np.array([0 for i in range(testLenNeg)]).reshape(testLenNeg,1)\n",
    "\n",
    "testMy_x = np.concatenate((testPosSentenceVector,testNegSentenceVector), axis = 0)\n",
    "testMy_y = np.concatenate((testPosLabel,testNegLabel), axis = 0)\n",
    "testTensor_x = torch.Tensor(testMy_x) # transform to torch tensor\n",
    "testTensor_y = torch.Tensor(testMy_y)\n",
    "testDatasetTensor = TensorDataset(testTensor_x,testTensor_y) # create your datset\n",
    "\n",
    "testDataLoader = DataLoader(testDatasetTensor)"
   ]
  },
  {
   "cell_type": "code",
   "execution_count": 79,
   "metadata": {
    "id": "z-YylWhWJfQF"
   },
   "outputs": [],
   "source": [
    "class NeuralNet(nn.Module):\n",
    "  def __init__(self, inputSize, noOfNeuronsInHiddenLayer, num_classes):\n",
    "    super(NeuralNet, self).__init__()\n",
    "    self.input_size = inputSize\n",
    "    self.l1 = nn.Linear(inputSize, noOfNeuronsInHiddenLayer) \n",
    "    self.d1 = nn.Dropout(0.25)\n",
    "    self.relu1 = nn.ReLU()\n",
    "    self.l2 = nn.Linear(noOfNeuronsInHiddenLayer,num_classes)\n",
    "    self.softmax=nn.Softmax(dim=1)\n",
    "\n",
    "  def forward(self, x):\n",
    "    out = self.l1(x)\n",
    "    out = self.d1(out)\n",
    "    out = self.relu1(out)\n",
    "    out = self.l2(out)\n",
    "    out = self.softmax(out)\n",
    "    return out"
   ]
  },
  {
   "cell_type": "code",
   "execution_count": 80,
   "metadata": {
    "id": "Z1e1ABlLrGI7"
   },
   "outputs": [],
   "source": [
    "noOfNeuronsInHiddenLayer = 400\n",
    "DAN2Layer = NeuralNet(dim, noOfNeuronsInHiddenLayer, 2)"
   ]
  },
  {
   "cell_type": "code",
   "execution_count": 81,
   "metadata": {
    "id": "s38J1_mPKiCK"
   },
   "outputs": [],
   "source": [
    "class DAN:\n",
    "  def __init__(self, trainDataLoader, validDataLoader, epochs, NNobj, learningRate):\n",
    "    self.trainDataLoader = trainDataLoader\n",
    "    self.validDataLoader = validDataLoader\n",
    "    self.epochs = epochs\n",
    "    self.NNobj = NNobj\n",
    "    self.cross_entropy_loss = nn.CrossEntropyLoss()\n",
    "\n",
    "    self.optimizer = optim.Adam(self.NNobj.parameters(), lr = learningRate)\n",
    "\n",
    "    self.trainLossList = []\n",
    "    self.validLossList = []\n",
    "    self.trainLossListPlotting = []\n",
    "    self.validLossListPlotting = []\n",
    "\n",
    "  def fit(self):\n",
    "    trainData, validData = self.trainDataLoader, self.validDataLoader\n",
    "    for i in range(self.epochs):\n",
    "      self.trainLossList = []\n",
    "      self.validLossList = []\n",
    "      accuracyListTrain = []\n",
    "      for batch in trainData:\n",
    "        self.NNobj.train()\n",
    "        x, y = batch\n",
    "        # b = x.size(0)\n",
    "        # x = x.view(b, -1)\n",
    "\n",
    "        forwardValue = self.NNobj(x)\n",
    "        costFunction_J = self.cross_entropy_loss(forwardValue, y)\n",
    "        self.NNobj.zero_grad()\n",
    "        costFunction_J.backward()\n",
    "        self.optimizer.step()\n",
    "        self.trainLossList.append(costFunction_J.item())\n",
    "        accuracyListTrain.append(y.eq(forwardValue.detach().argmax(dim = 1)).float().mean())\n",
    "          \n",
    "      accuracyListVal = []\n",
    "      for batch in validData:\n",
    "        self.NNobj.eval()\n",
    "        x, y = batch\n",
    "        with torch.no_grad():\n",
    "          forwardValue = self.NNobj(x)\n",
    "          costFunction_J = self.cross_entropy_loss(forwardValue, y)\n",
    "        self.validLossList.append(costFunction_J.item())\n",
    "        accuracyListVal.append(y.eq(forwardValue.detach().argmax(dim = 1)).float().mean())\n",
    "      \n",
    "      self.trainLossListPlotting.append(torch.tensor(self.trainLossList).mean())\n",
    "      self.validLossListPlotting.append(torch.tensor(self.validLossList).mean())\n",
    "      accuracyTrain = torch.tensor(accuracyListTrain).mean() * 100\n",
    "      accuracyVal = torch.tensor(accuracyListVal).mean() * 100\n",
    "\n",
    "      print('At Epoch Number: ' + str(i+1) +'; Train Loss= ' + str(\"{:.2f}\".format(torch.tensor(self.trainLossList).mean()))+'; Validation Loss= ' + str(\"{:.2f}\".format(torch.tensor(self.validLossList).mean())) + \"; \" + \"Train Accuracy = \", \"{:.2f}\".format(accuracyTrain), \"%\" + \"; \" + \"Validation Accuracy = \", \"{:.2f}\".format(accuracyVal), \"%\")\n",
    "\n",
    "  def predict(self,testData):\n",
    "    accuracyListPred = []\n",
    "    for batch in testData:\n",
    "      x, y = batch\n",
    "\n",
    "      with torch.no_grad():\n",
    "        forwardValue = self.NNobj(x)\n",
    "          \n",
    "      accuracyListPred.append(y.eq(forwardValue.detach().argmax(dim = 1)).float().mean())\n",
    "    accuracy = torch.tensor(accuracyListPred).mean() * 100\n",
    "    print('\\033[1m' + \"Review Classification Accuracy on Test Data = \", \"{:.2f}\".format(accuracy), \" %\" + '\\033[0m' )\n",
    "\n",
    "  def plotLossCurve(self, flag):\n",
    "    x = [(i+1) for i in range(self.epochs)]\n",
    "    plt.xlabel('#Epoch')\n",
    "    plt.ylabel('Loss')\n",
    "    tempStr = \"Loss curve for \"\n",
    "    if(flag == 0):\n",
    "        tempStr += \"Train Data\"\n",
    "        plt.plot(x,self.trainLossListPlotting)\n",
    "    else:\n",
    "        tempStr += \"Validation Data\"\n",
    "        plt.plot(x,self.validLossListPlotting)\n",
    "    plt.title(tempStr)\n",
    "    plt.show()\n"
   ]
  },
  {
   "cell_type": "code",
   "execution_count": 82,
   "metadata": {
    "colab": {
     "base_uri": "https://localhost:8080/",
     "height": 1000
    },
    "id": "WPeKZGIJTfKw",
    "outputId": "fe615baa-3e4e-4f79-a3db-4a02bd210253"
   },
   "outputs": [
    {
     "name": "stdout",
     "output_type": "stream",
     "text": [
      "At Epoch Number: 1; Train Loss= 0.67; Validation Loss= 0.65; Train Accuracy =  63.09 %; Validation Accuracy =  67.26 %\n",
      "At Epoch Number: 2; Train Loss= 0.62; Validation Loss= 0.61; Train Accuracy =  69.94 %; Validation Accuracy =  70.34 %\n",
      "At Epoch Number: 3; Train Loss= 0.59; Validation Loss= 0.59; Train Accuracy =  72.44 %; Validation Accuracy =  71.08 %\n",
      "At Epoch Number: 4; Train Loss= 0.57; Validation Loss= 0.58; Train Accuracy =  73.78 %; Validation Accuracy =  72.82 %\n",
      "At Epoch Number: 5; Train Loss= 0.56; Validation Loss= 0.57; Train Accuracy =  74.54 %; Validation Accuracy =  73.36 %\n",
      "At Epoch Number: 6; Train Loss= 0.56; Validation Loss= 0.56; Train Accuracy =  75.06 %; Validation Accuracy =  73.46 %\n",
      "At Epoch Number: 7; Train Loss= 0.55; Validation Loss= 0.56; Train Accuracy =  75.41 %; Validation Accuracy =  73.76 %\n",
      "At Epoch Number: 8; Train Loss= 0.55; Validation Loss= 0.56; Train Accuracy =  75.75 %; Validation Accuracy =  74.26 %\n",
      "At Epoch Number: 9; Train Loss= 0.55; Validation Loss= 0.56; Train Accuracy =  75.62 %; Validation Accuracy =  74.01 %\n",
      "At Epoch Number: 10; Train Loss= 0.54; Validation Loss= 0.56; Train Accuracy =  75.54 %; Validation Accuracy =  74.11 %\n",
      "At Epoch Number: 11; Train Loss= 0.54; Validation Loss= 0.55; Train Accuracy =  76.11 %; Validation Accuracy =  73.86 %\n",
      "At Epoch Number: 12; Train Loss= 0.54; Validation Loss= 0.55; Train Accuracy =  76.64 %; Validation Accuracy =  73.96 %\n",
      "At Epoch Number: 13; Train Loss= 0.54; Validation Loss= 0.55; Train Accuracy =  76.39 %; Validation Accuracy =  73.96 %\n",
      "At Epoch Number: 14; Train Loss= 0.54; Validation Loss= 0.55; Train Accuracy =  77.01 %; Validation Accuracy =  74.40 %\n",
      "At Epoch Number: 15; Train Loss= 0.54; Validation Loss= 0.55; Train Accuracy =  76.59 %; Validation Accuracy =  74.06 %\n",
      "At Epoch Number: 16; Train Loss= 0.53; Validation Loss= 0.55; Train Accuracy =  76.94 %; Validation Accuracy =  74.36 %\n",
      "At Epoch Number: 17; Train Loss= 0.53; Validation Loss= 0.55; Train Accuracy =  76.74 %; Validation Accuracy =  74.26 %\n",
      "At Epoch Number: 18; Train Loss= 0.53; Validation Loss= 0.55; Train Accuracy =  77.00 %; Validation Accuracy =  74.40 %\n",
      "At Epoch Number: 19; Train Loss= 0.53; Validation Loss= 0.55; Train Accuracy =  77.20 %; Validation Accuracy =  74.21 %\n",
      "At Epoch Number: 20; Train Loss= 0.53; Validation Loss= 0.55; Train Accuracy =  77.28 %; Validation Accuracy =  74.26 %\n"
     ]
    },
    {
     "data": {
      "image/png": "[encoded data removed]",
      "text/plain": [
       "<Figure size 432x288 with 1 Axes>"
      ]
     },
     "metadata": {
      "needs_background": "light"
     },
     "output_type": "display_data"
    },
    {
     "data": {
      "image/png": "[encoded data removed]",
      "text/plain": [
       "<Figure size 432x288 with 1 Axes>"
      ]
     },
     "metadata": {
      "needs_background": "light"
     },
     "output_type": "display_data"
    }
   ],
   "source": [
    "epochs = 20\n",
    "learningRate = 1e-4\n",
    "DANObj = DAN(trainDataLoader,validDataLoader,epochs,DAN2Layer,learningRate)\n",
    "DANObj.fit()\n",
    "DANObj.plotLossCurve(0)\n",
    "DANObj.plotLossCurve(1)\n"
   ]
  },
  {
   "cell_type": "code",
   "execution_count": 83,
   "metadata": {
    "colab": {
     "base_uri": "https://localhost:8080/"
    },
    "id": "suAwtAeV4Ona",
    "outputId": "9a4e77dc-3d63-4169-e1a5-7fcc01fd6643"
   },
   "outputs": [
    {
     "name": "stdout",
     "output_type": "stream",
     "text": [
      "\u001b[1mReview Classification Accuracy on Test Data =  76.28  %\u001b[0m\n"
     ]
    }
   ],
   "source": [
    "DANObj.predict(testDataLoader)"
   ]
  },
  {
   "cell_type": "markdown",
   "metadata": {},
   "source": [
    "## Completed"
   ]
  }
 ],
 "metadata": {
  "colab": {
   "collapsed_sections": [],
   "provenance": []
  },
  "kernelspec": {
   "display_name": "Python 3 (ipykernel)",
   "language": "python",
   "name": "python3"
  },
  "language_info": {
   "codemirror_mode": {
    "name": "ipython",
    "version": 3
   },
   "file_extension": ".py",
   "mimetype": "text/x-python",
   "name": "python",
   "nbconvert_exporter": "python",
   "pygments_lexer": "ipython3",
   "version": "3.9.12"
  }
 },
 "nbformat": 4,
 "nbformat_minor": 1
}
