{
  "nbformat": 4,
  "nbformat_minor": 0,
  "metadata": {
    "colab": {
      "provenance": [],
      "collapsed_sections": []
    },
    "kernelspec": {
      "name": "python3",
      "display_name": "Python 3"
    },
    "language_info": {
      "name": "python"
    }
  },
  "cells": [
    {
      "cell_type": "code",
      "execution_count": null,
      "metadata": {
        "id": "hS7TXDxY0Mjx"
      },
      "outputs": [],
      "source": [
        "# Importing necessary packages\n",
        "import spacy\n",
        "import re\n",
        "import numpy as np\n",
        "import matplotlib.pyplot as plt\n",
        "from sklearn.manifold import TSNE\n",
        "nlp = spacy.load('en_core_web_sm')\n",
        "import csv\n",
        "# spacy_stopwords = spacy.lang.en.stop_words.STOP_WORDS\n",
        "\n",
        "import torch\n",
        "import torch.nn as nn\n",
        "import torch.nn.functional as F\n",
        "from torch import optim\n",
        "from torch.utils.data import TensorDataset, DataLoader, random_split"
      ]
    },
    {
      "cell_type": "code",
      "source": [
        "from google.colab import drive\n",
        "drive.mount('/content/drive/')"
      ],
      "metadata": {
        "id": "qShdZ6f58-1F",
        "colab": {
          "base_uri": "https://localhost:8080/"
        },
        "outputId": "14c21093-40a9-4e1b-b37b-e8c460308fd2"
      },
      "execution_count": null,
      "outputs": [
        {
          "output_type": "stream",
          "name": "stdout",
          "text": [
            "Mounted at /content/drive/\n"
          ]
        }
      ]
    },
    {
      "cell_type": "code",
      "source": [
        "trainPosPath = open(\"/content/drive/MyDrive/IISc/DLNLP/Assignment1/pos.txt\",'r')\n",
        "trainNegPath = open(\"/content/drive/MyDrive/IISc/DLNLP/Assignment1/neg.txt\",'r')\n",
        "posList = trainPosPath.read().split(\"\\n\")[:5000]\n",
        "negList = trainNegPath.read().split(\"\\n\")[:5000]\n",
        "# print(len(posList))\n",
        "# print(posList[4999])\n",
        "# print(len(negList))\n",
        "# print(negList[4999])"
      ],
      "metadata": {
        "id": "afNa89WHIFIM"
      },
      "execution_count": null,
      "outputs": []
    },
    {
      "cell_type": "markdown",
      "source": [
        "Functions for sentence preprocessing"
      ],
      "metadata": {
        "id": "Oa8iNmR_mi3D"
      }
    },
    {
      "cell_type": "code",
      "source": [
        "def remPunc(text):\n",
        "  if type(text) == str:\n",
        "    text = re.sub('<[^>]*>', '', text)\n",
        "    text = re.sub('[\\W]+', '', text.lower())\n",
        "    return text\n",
        "\n",
        "def refineSentence(tempSentence):\n",
        "  tokens = nlp(tempSentence)\n",
        "  filtered = []\n",
        "  for token in tokens:\n",
        "    if (token.is_stop == False):\n",
        "      textAfterRemPunc = remPunc(token.lemma_)\n",
        "      if(textAfterRemPunc != ''):\n",
        "        filtered.append(textAfterRemPunc)\n",
        "  return filtered "
      ],
      "metadata": {
        "id": "W11dc8X_TkgL"
      },
      "execution_count": null,
      "outputs": []
    },
    {
      "cell_type": "markdown",
      "source": [
        "PreProcessing the Train Data"
      ],
      "metadata": {
        "id": "hfr1rKtlmslg"
      }
    },
    {
      "cell_type": "code",
      "source": [
        "posPreProccessedList = [refineSentence(sentence) for sentence in posList]\n",
        "negPreProccessedList = [refineSentence(sentence) for sentence in negList]"
      ],
      "metadata": {
        "id": "gJAHS98tmyFM"
      },
      "execution_count": null,
      "outputs": []
    },
    {
      "cell_type": "code",
      "source": [
        "print(posPreProccessedList[8])\n",
        "print(negPreProccessedList[3])"
      ],
      "metadata": {
        "id": "I__o5ClNndBG",
        "colab": {
          "base_uri": "https://localhost:8080/"
        },
        "outputId": "649e54ee-309e-4b73-d0ef-866ab4b5de97"
      },
      "execution_count": null,
      "outputs": [
        {
          "output_type": "stream",
          "name": "stdout",
          "text": [
            "['steer', 'turn', 'snappy', 'screenplay', 'curl', 'edge', 'clever', 'want', 'hate', 'pull']\n",
            "['garbus', 'discard', 'potential', 'pathological', 'study', 'exhume', 'instead', 'skewed', 'melodrama', 'circumstantial', 'situation']\n"
          ]
        }
      ]
    },
    {
      "cell_type": "markdown",
      "source": [
        "Getting GloVe Embeddings"
      ],
      "metadata": {
        "id": "TQ08lW7oqIyY"
      }
    },
    {
      "cell_type": "code",
      "source": [
        "embeddingsDict = {}\n",
        "dim = 300\n",
        "with open(\"/content/drive/MyDrive/IISc/DLNLP/Assignment1/glove.6B.300d.txt\", 'r', encoding=\"utf-8\") as wordEmbeddings:\n",
        "  for line in wordEmbeddings:\n",
        "    values = line.split()\n",
        "    word = values[0]\n",
        "    vector = np.asarray(values[1:],'float32')\n",
        "    embeddingsDict[word]=vector"
      ],
      "metadata": {
        "id": "0oS1pRlVnwzv"
      },
      "execution_count": null,
      "outputs": []
    },
    {
      "cell_type": "markdown",
      "source": [
        "Function to convert refined sentence to average sentence vector"
      ],
      "metadata": {
        "id": "a0EIwX7ohhc8"
      }
    },
    {
      "cell_type": "code",
      "source": [
        "def sentenceToAvgWordEmbeddings(preProccessedList):\n",
        "  preProccessedListVectors = []\n",
        "  for preProcessedWordList in preProccessedList:\n",
        "    tempList = []\n",
        "    for word in preProcessedWordList:\n",
        "      if(word in embeddingsDict):\n",
        "        tempList.append(embeddingsDict[word])\n",
        "    preProccessedListVectors.append(tempList)\n",
        "\n",
        "  sentenceVector = []\n",
        "  for vectorsOfWords in preProccessedListVectors:\n",
        "    if(len(vectorsOfWords) == 0):\n",
        "      continue\n",
        "    avgVec = [0 for i in range(dim)]\n",
        "    for wordVec in vectorsOfWords:\n",
        "      avgVec += wordVec\n",
        "    avgVec = [i/len(vectorsOfWords) for i in avgVec]\n",
        "    sentenceVector.append(avgVec)\n",
        "  return sentenceVector"
      ],
      "metadata": {
        "id": "oQrbyvxphumm"
      },
      "execution_count": null,
      "outputs": []
    },
    {
      "cell_type": "markdown",
      "source": [
        "Training Data words to Word Vectors"
      ],
      "metadata": {
        "id": "4AystgdYrFew"
      }
    },
    {
      "cell_type": "code",
      "source": [
        "posSentenceVector = sentenceToAvgWordEmbeddings(posPreProccessedList)\n",
        "negSentenceVector = sentenceToAvgWordEmbeddings(negPreProccessedList)"
      ],
      "metadata": {
        "id": "zqnaV-k5rExL"
      },
      "execution_count": null,
      "outputs": []
    },
    {
      "cell_type": "code",
      "source": [
        "lenPos = len(posSentenceVector)\n",
        "lenNeg = len(negSentenceVector)\n",
        "nSamples = lenPos+lenNeg\n",
        "\n",
        "print(lenPos)\n",
        "print(lenNeg)\n",
        "print(nSamples)"
      ],
      "metadata": {
        "id": "-RHBzPJqg28P",
        "colab": {
          "base_uri": "https://localhost:8080/"
        },
        "outputId": "67c41b06-4321-450e-f9c1-cc10541a355f"
      },
      "execution_count": null,
      "outputs": [
        {
          "output_type": "stream",
          "name": "stdout",
          "text": [
            "4999\n",
            "4995\n",
            "9994\n"
          ]
        }
      ]
    },
    {
      "cell_type": "markdown",
      "source": [
        "Appending the labels and shuffling."
      ],
      "metadata": {
        "id": "weWb3X47u24z"
      }
    },
    {
      "cell_type": "code",
      "source": [
        "posSentenceVector = np.array(posSentenceVector)\n",
        "posLabel = np.array([1 for i in range(lenPos)]).reshape(lenPos,1)\n",
        "\n",
        "negSentenceVector = np.array(negSentenceVector)\n",
        "negLabel = np.array([0 for i in range(lenNeg)]).reshape(lenNeg,1)"
      ],
      "metadata": {
        "id": "1Y-XEy8zu2je"
      },
      "execution_count": null,
      "outputs": []
    },
    {
      "cell_type": "code",
      "source": [
        "my_x = np.concatenate((posSentenceVector,negSentenceVector), axis = 0)\n",
        "my_y = np.concatenate((posLabel,negLabel), axis = 0)\n",
        "my_y = my_y.reshape((9994))\n",
        "trainSize = int(nSamples*(0.8))\n",
        "valSize = nSamples - trainSize\n",
        "tensor_x = torch.Tensor(my_x) # transform to torch tensor\n",
        "tensor_y = torch.Tensor(my_y)\n",
        "tensor_y = tensor_y.type(torch.LongTensor)\n",
        "trainDatasetTensor = TensorDataset(tensor_x,tensor_y) # create your datset\n",
        "trainData, validData = random_split(trainDatasetTensor, [trainSize,valSize])\n",
        "\n",
        "trainDataLoader = DataLoader(trainData, batch_size = 32)\n",
        "validDataLoader = DataLoader(validData, batch_size = 32)"
      ],
      "metadata": {
        "id": "mVqNYCMTCZ_M"
      },
      "execution_count": null,
      "outputs": []
    },
    {
      "cell_type": "code",
      "source": [
        "print(tensor_y.shape)"
      ],
      "metadata": {
        "id": "LkENRSiXtBiw",
        "colab": {
          "base_uri": "https://localhost:8080/"
        },
        "outputId": "99849a44-9666-49e3-abb5-3241e11461e2"
      },
      "execution_count": null,
      "outputs": [
        {
          "output_type": "stream",
          "name": "stdout",
          "text": [
            "torch.Size([9994])\n"
          ]
        }
      ]
    },
    {
      "cell_type": "markdown",
      "source": [
        "t-SNE and Plotting Graph"
      ],
      "metadata": {
        "id": "GGGObRDzWYtF"
      }
    },
    {
      "cell_type": "code",
      "source": [
        "# dataTSNE = np.concatenate((posSentenceVector,negSentenceVector), axis = 0)\n",
        "# tSNE = TSNE(learning_rate = 100)\n",
        "# tSNE_features = tSNE.fit_transform(dataTSNE)"
      ],
      "metadata": {
        "id": "AXcsAX0NWWjm"
      },
      "execution_count": null,
      "outputs": []
    },
    {
      "cell_type": "code",
      "source": [
        "# print(tSNE_features.shape)\n",
        "# pos_tsne = (tSNE_features[:lenPos]).T\n",
        "# neg_tsne = (tSNE_features[lenPos:]).T\n",
        "# plt.scatter(pos_tsne[0], pos_tsne[1],color = 'b')\n",
        "# plt.scatter(neg_tsne[0], neg_tsne[1],color = 'r')\n",
        "# plt.show()"
      ],
      "metadata": {
        "id": "4aNuUEOeadRA"
      },
      "execution_count": null,
      "outputs": []
    },
    {
      "cell_type": "markdown",
      "source": [
        "Loading Test Data"
      ],
      "metadata": {
        "id": "inmxViYDm5px"
      }
    },
    {
      "cell_type": "code",
      "source": [
        "testPath = open(\"/content/drive/MyDrive/IISc/DLNLP/Assignment1/testData.txt\",'r')\n",
        "testDataList = testPath.read().split(\"\\n\")\n",
        "\n",
        "testPosList = testDataList[:331]\n",
        "testNegList = testDataList[331:]\n",
        "\n",
        "print(len(testPosList))\n",
        "print(len(testNegList))\n",
        "\n",
        "testPosPreProccessedList = [refineSentence(sentence) for sentence in testPosList]\n",
        "testNegPreProccessedList = [refineSentence(sentence) for sentence in testNegList]\n",
        "\n",
        "testPosSentenceVector = sentenceToAvgWordEmbeddings(testPosPreProccessedList)\n",
        "testNegSentenceVector = sentenceToAvgWordEmbeddings(testNegPreProccessedList)\n",
        "\n",
        "testLenPos = len(testPosSentenceVector)\n",
        "testLenNeg = len(testNegSentenceVector)\n",
        "nSamples_test = testLenPos+testLenNeg\n",
        "\n",
        "testPosSentenceVector = np.array(testPosSentenceVector)\n",
        "testPosLabel = np.array([1 for i in range(testLenPos)]).reshape(testLenPos,1)\n",
        "\n",
        "testNegSentenceVector = np.array(testNegSentenceVector)\n",
        "testNegLabel = np.array([0 for i in range(testLenNeg)]).reshape(testLenNeg,1)\n",
        "\n",
        "testMy_x = np.concatenate((testPosSentenceVector,testNegSentenceVector), axis = 0)\n",
        "testMy_y = np.concatenate((testPosLabel,testNegLabel), axis = 0)\n",
        "testTensor_x = torch.Tensor(testMy_x) # transform to torch tensor\n",
        "testTensor_y = torch.Tensor(testMy_y)\n",
        "testDatasetTensor = TensorDataset(testTensor_x,testTensor_y) # create your datset\n",
        "\n",
        "testDataLoader = DataLoader(testDatasetTensor)"
      ],
      "metadata": {
        "id": "UTLUgJj5k2oJ",
        "colab": {
          "base_uri": "https://localhost:8080/"
        },
        "outputId": "eefa09b0-6859-4fe0-e988-0d093521459b"
      },
      "execution_count": null,
      "outputs": [
        {
          "output_type": "stream",
          "name": "stdout",
          "text": [
            "331\n",
            "331\n"
          ]
        }
      ]
    },
    {
      "cell_type": "code",
      "source": [
        "class NeuralNet(nn.Module):\n",
        "  def __init__(self, inputSize, noOfNeuronsInHiddenLayer, num_classes):\n",
        "    super(NeuralNet, self).__init__()\n",
        "    self.input_size = inputSize\n",
        "    self.l1 = nn.Linear(inputSize, noOfNeuronsInHiddenLayer) \n",
        "    self.d1 = nn.Dropout(0.25)\n",
        "    self.relu1 = nn.ReLU()\n",
        "    self.l2 = nn.Linear(noOfNeuronsInHiddenLayer,num_classes)\n",
        "    self.softmax=nn.Softmax(dim=1)\n",
        "\n",
        "  def forward(self, x):\n",
        "    out = self.l1(x)\n",
        "    out = self.d1(out)\n",
        "    out = self.relu1(out)\n",
        "    out = self.l2(out)\n",
        "    out = self.softmax(out)\n",
        "    return out"
      ],
      "metadata": {
        "id": "z-YylWhWJfQF"
      },
      "execution_count": null,
      "outputs": []
    },
    {
      "cell_type": "code",
      "source": [
        "noOfNeuronsInHiddenLayer = 400\n",
        "DAN2Layer = NeuralNet(dim, noOfNeuronsInHiddenLayer, 2)"
      ],
      "metadata": {
        "id": "Z1e1ABlLrGI7"
      },
      "execution_count": null,
      "outputs": []
    },
    {
      "cell_type": "code",
      "source": [
        "class DAN:\n",
        "  def __init__(self, trainDataLoader, validDataLoader, epochs, NNobj, learningRate):\n",
        "    self.trainDataLoader = trainDataLoader\n",
        "    self.validDataLoader = validDataLoader\n",
        "    self.epochs = epochs\n",
        "    self.NNobj = NNobj\n",
        "    self.cross_entropy_loss = nn.CrossEntropyLoss()\n",
        "\n",
        "    self.optimizer = optim.SGD(self.NNobj.parameters(), lr = learningRate)\n",
        "\n",
        "    self.trainLossList = []\n",
        "    self.validLossList = []\n",
        "    self.trainLossListPlotting = []\n",
        "    self.validLossListPlotting = []\n",
        "\n",
        "  def fit(self):\n",
        "    trainData, validData = self.trainDataLoader, self.validDataLoader\n",
        "    for i in range(self.epochs):\n",
        "      self.trainLossList = []\n",
        "      self.validLossList = []\n",
        "      accuracyListTrain = []\n",
        "      for batch in trainData:\n",
        "        self.NNobj.train()\n",
        "        x, y = batch\n",
        "        # b = x.size(0)\n",
        "        # x = x.view(b, -1)\n",
        "\n",
        "        forwardValue = self.NNobj(x)\n",
        "        costFunction_J = self.cross_entropy_loss(forwardValue, y)\n",
        "        self.NNobj.zero_grad()\n",
        "        costFunction_J.backward()\n",
        "        self.optimizer.step()\n",
        "        self.trainLossList.append(costFunction_J.item())\n",
        "        accuracyListTrain.append(y.eq(forwardValue.detach().argmax(dim = 1)).float().mean())\n",
        "          \n",
        "      accuracyListVal = []\n",
        "      for batch in validData:\n",
        "        self.NNobj.eval()\n",
        "        x, y = batch\n",
        "        with torch.no_grad():\n",
        "          forwardValue = self.NNobj(x)\n",
        "          costFunction_J = self.cross_entropy_loss(forwardValue, y)\n",
        "        self.validLossList.append(costFunction_J.item())\n",
        "        accuracyListVal.append(y.eq(forwardValue.detach().argmax(dim = 1)).float().mean())\n",
        "      \n",
        "      self.trainLossListPlotting.append(torch.tensor(self.trainLossList).mean())\n",
        "      self.validLossListPlotting.append(torch.tensor(self.validLossList).mean())\n",
        "      accuracyTrain = torch.tensor(accuracyListTrain).mean() * 100\n",
        "      accuracyVal = torch.tensor(accuracyListVal).mean() * 100\n",
        "\n",
        "      print('At Epoch Number: ' + str(i+1) +'; Train Loss= ' + str(\"{:.2f}\".format(torch.tensor(self.trainLossList).mean()))+'; Validation Loss= ' + str(\"{:.2f}\".format(torch.tensor(self.validLossList).mean())) + \"; \" + \"Train Accuracy = \", \"{:.2f}\".format(accuracyTrain), \"%\" + \"; \" + \"Validation Accuracy = \", \"{:.2f}\".format(accuracyVal), \"%\")\n",
        "\n",
        "  def predict(self,testData):\n",
        "    accuracyListPred = []\n",
        "    for batch in testData:\n",
        "      x, y = batch\n",
        "\n",
        "      with torch.no_grad():\n",
        "        forwardValue = self.NNobj(x)\n",
        "          \n",
        "      accuracyListPred.append(y.eq(forwardValue.detach().argmax(dim = 1)).float().mean())\n",
        "    accuracy = torch.tensor(accuracyListPred).mean() * 100\n",
        "    print('\\033[1m' + \"Review Classification Accuracy on Test Data = \", \"{:.2f}\".format(accuracy), \" %\" + '\\033[0m' )\n",
        "\n",
        "  def plotLossCurve(self, flag):\n",
        "    x = [(i+1) for i in range(self.epochs)]\n",
        "    plt.xlabel('#Epoch')\n",
        "    plt.ylabel('Loss')\n",
        "    tempStr = \"Loss curve for \"\n",
        "    if(flag == 0):\n",
        "        tempStr += \"Train Data\"\n",
        "        plt.plot(x,self.trainLossListPlotting)\n",
        "    else:\n",
        "        tempStr += \"Validation Data\"\n",
        "        plt.plot(x,self.validLossListPlotting)\n",
        "    plt.title(tempStr)\n",
        "    plt.show()\n"
      ],
      "metadata": {
        "id": "s38J1_mPKiCK"
      },
      "execution_count": null,
      "outputs": []
    },
    {
      "cell_type": "code",
      "source": [
        "epochs = 100\n",
        "learningRate = 1e-2\n",
        "DANObj = DAN(trainDataLoader,validDataLoader,epochs,DAN2Layer,learningRate)\n",
        "DANObj.fit()\n",
        "DANObj.plotLossCurve(0)\n",
        "DANObj.plotLossCurve(1)\n"
      ],
      "metadata": {
        "id": "WPeKZGIJTfKw",
        "colab": {
          "base_uri": "https://localhost:8080/",
          "height": 1000
        },
        "outputId": "fe615baa-3e4e-4f79-a3db-4a02bd210253"
      },
      "execution_count": null,
      "outputs": [
        {
          "output_type": "stream",
          "name": "stdout",
          "text": [
            "At Epoch Number: 1; Train Loss= 0.69; Validation Loss= 0.69; Train Accuracy =  54.36 %; Validation Accuracy =  59.32 %\n",
            "At Epoch Number: 2; Train Loss= 0.69; Validation Loss= 0.69; Train Accuracy =  59.93 %; Validation Accuracy =  63.30 %\n",
            "At Epoch Number: 3; Train Loss= 0.68; Validation Loss= 0.68; Train Accuracy =  64.17 %; Validation Accuracy =  65.93 %\n",
            "At Epoch Number: 4; Train Loss= 0.68; Validation Loss= 0.68; Train Accuracy =  66.12 %; Validation Accuracy =  67.92 %\n",
            "At Epoch Number: 5; Train Loss= 0.68; Validation Loss= 0.67; Train Accuracy =  67.55 %; Validation Accuracy =  69.26 %\n",
            "At Epoch Number: 6; Train Loss= 0.67; Validation Loss= 0.67; Train Accuracy =  68.44 %; Validation Accuracy =  70.35 %\n",
            "At Epoch Number: 7; Train Loss= 0.66; Validation Loss= 0.66; Train Accuracy =  68.90 %; Validation Accuracy =  71.30 %\n",
            "At Epoch Number: 8; Train Loss= 0.66; Validation Loss= 0.65; Train Accuracy =  69.65 %; Validation Accuracy =  70.96 %\n",
            "At Epoch Number: 9; Train Loss= 0.65; Validation Loss= 0.65; Train Accuracy =  69.89 %; Validation Accuracy =  71.30 %\n",
            "At Epoch Number: 10; Train Loss= 0.64; Validation Loss= 0.64; Train Accuracy =  70.45 %; Validation Accuracy =  71.55 %\n",
            "At Epoch Number: 11; Train Loss= 0.64; Validation Loss= 0.63; Train Accuracy =  70.45 %; Validation Accuracy =  71.95 %\n",
            "At Epoch Number: 12; Train Loss= 0.63; Validation Loss= 0.62; Train Accuracy =  70.01 %; Validation Accuracy =  72.29 %\n",
            "At Epoch Number: 13; Train Loss= 0.62; Validation Loss= 0.62; Train Accuracy =  70.81 %; Validation Accuracy =  72.69 %\n",
            "At Epoch Number: 14; Train Loss= 0.62; Validation Loss= 0.61; Train Accuracy =  71.69 %; Validation Accuracy =  72.74 %\n",
            "At Epoch Number: 15; Train Loss= 0.61; Validation Loss= 0.61; Train Accuracy =  71.19 %; Validation Accuracy =  72.94 %\n",
            "At Epoch Number: 16; Train Loss= 0.60; Validation Loss= 0.60; Train Accuracy =  71.60 %; Validation Accuracy =  73.05 %\n",
            "At Epoch Number: 17; Train Loss= 0.60; Validation Loss= 0.60; Train Accuracy =  71.76 %; Validation Accuracy =  73.10 %\n",
            "At Epoch Number: 18; Train Loss= 0.60; Validation Loss= 0.59; Train Accuracy =  71.91 %; Validation Accuracy =  73.44 %\n",
            "At Epoch Number: 19; Train Loss= 0.59; Validation Loss= 0.59; Train Accuracy =  71.93 %; Validation Accuracy =  73.44 %\n",
            "At Epoch Number: 20; Train Loss= 0.59; Validation Loss= 0.59; Train Accuracy =  72.48 %; Validation Accuracy =  73.44 %\n",
            "At Epoch Number: 21; Train Loss= 0.59; Validation Loss= 0.59; Train Accuracy =  72.64 %; Validation Accuracy =  73.68 %\n",
            "At Epoch Number: 22; Train Loss= 0.58; Validation Loss= 0.58; Train Accuracy =  72.75 %; Validation Accuracy =  73.73 %\n",
            "At Epoch Number: 23; Train Loss= 0.58; Validation Loss= 0.58; Train Accuracy =  72.75 %; Validation Accuracy =  73.78 %\n",
            "At Epoch Number: 24; Train Loss= 0.58; Validation Loss= 0.58; Train Accuracy =  72.98 %; Validation Accuracy =  73.88 %\n",
            "At Epoch Number: 25; Train Loss= 0.58; Validation Loss= 0.58; Train Accuracy =  72.98 %; Validation Accuracy =  73.83 %\n",
            "At Epoch Number: 26; Train Loss= 0.57; Validation Loss= 0.58; Train Accuracy =  73.53 %; Validation Accuracy =  73.83 %\n",
            "At Epoch Number: 27; Train Loss= 0.57; Validation Loss= 0.57; Train Accuracy =  73.24 %; Validation Accuracy =  73.78 %\n",
            "At Epoch Number: 28; Train Loss= 0.57; Validation Loss= 0.57; Train Accuracy =  73.26 %; Validation Accuracy =  73.73 %\n",
            "At Epoch Number: 29; Train Loss= 0.57; Validation Loss= 0.57; Train Accuracy =  73.91 %; Validation Accuracy =  73.98 %\n",
            "At Epoch Number: 30; Train Loss= 0.57; Validation Loss= 0.57; Train Accuracy =  73.78 %; Validation Accuracy =  74.03 %\n",
            "At Epoch Number: 31; Train Loss= 0.57; Validation Loss= 0.57; Train Accuracy =  74.04 %; Validation Accuracy =  74.23 %\n",
            "At Epoch Number: 32; Train Loss= 0.57; Validation Loss= 0.57; Train Accuracy =  74.11 %; Validation Accuracy =  74.18 %\n",
            "At Epoch Number: 33; Train Loss= 0.56; Validation Loss= 0.57; Train Accuracy =  74.37 %; Validation Accuracy =  74.13 %\n",
            "At Epoch Number: 34; Train Loss= 0.56; Validation Loss= 0.57; Train Accuracy =  74.29 %; Validation Accuracy =  74.18 %\n",
            "At Epoch Number: 35; Train Loss= 0.56; Validation Loss= 0.57; Train Accuracy =  74.29 %; Validation Accuracy =  74.23 %\n",
            "At Epoch Number: 36; Train Loss= 0.56; Validation Loss= 0.57; Train Accuracy =  74.59 %; Validation Accuracy =  74.38 %\n",
            "At Epoch Number: 37; Train Loss= 0.56; Validation Loss= 0.56; Train Accuracy =  74.42 %; Validation Accuracy =  74.38 %\n",
            "At Epoch Number: 38; Train Loss= 0.56; Validation Loss= 0.56; Train Accuracy =  74.48 %; Validation Accuracy =  74.58 %\n",
            "At Epoch Number: 39; Train Loss= 0.56; Validation Loss= 0.56; Train Accuracy =  74.79 %; Validation Accuracy =  74.63 %\n",
            "At Epoch Number: 40; Train Loss= 0.56; Validation Loss= 0.56; Train Accuracy =  74.77 %; Validation Accuracy =  74.58 %\n",
            "At Epoch Number: 41; Train Loss= 0.56; Validation Loss= 0.56; Train Accuracy =  74.63 %; Validation Accuracy =  74.63 %\n",
            "At Epoch Number: 42; Train Loss= 0.56; Validation Loss= 0.56; Train Accuracy =  74.74 %; Validation Accuracy =  74.58 %\n",
            "At Epoch Number: 43; Train Loss= 0.56; Validation Loss= 0.56; Train Accuracy =  74.79 %; Validation Accuracy =  74.48 %\n",
            "At Epoch Number: 44; Train Loss= 0.56; Validation Loss= 0.56; Train Accuracy =  74.72 %; Validation Accuracy =  74.43 %\n",
            "At Epoch Number: 45; Train Loss= 0.55; Validation Loss= 0.56; Train Accuracy =  75.19 %; Validation Accuracy =  74.48 %\n",
            "At Epoch Number: 46; Train Loss= 0.55; Validation Loss= 0.56; Train Accuracy =  74.80 %; Validation Accuracy =  74.28 %\n",
            "At Epoch Number: 47; Train Loss= 0.55; Validation Loss= 0.56; Train Accuracy =  74.99 %; Validation Accuracy =  74.48 %\n",
            "At Epoch Number: 48; Train Loss= 0.55; Validation Loss= 0.56; Train Accuracy =  75.16 %; Validation Accuracy =  74.53 %\n",
            "At Epoch Number: 49; Train Loss= 0.55; Validation Loss= 0.56; Train Accuracy =  75.23 %; Validation Accuracy =  74.48 %\n",
            "At Epoch Number: 50; Train Loss= 0.55; Validation Loss= 0.56; Train Accuracy =  74.93 %; Validation Accuracy =  74.58 %\n",
            "At Epoch Number: 51; Train Loss= 0.55; Validation Loss= 0.56; Train Accuracy =  75.15 %; Validation Accuracy =  74.53 %\n",
            "At Epoch Number: 52; Train Loss= 0.55; Validation Loss= 0.56; Train Accuracy =  75.28 %; Validation Accuracy =  74.38 %\n",
            "At Epoch Number: 53; Train Loss= 0.55; Validation Loss= 0.56; Train Accuracy =  75.10 %; Validation Accuracy =  74.33 %\n",
            "At Epoch Number: 54; Train Loss= 0.55; Validation Loss= 0.56; Train Accuracy =  75.26 %; Validation Accuracy =  74.53 %\n",
            "At Epoch Number: 55; Train Loss= 0.55; Validation Loss= 0.56; Train Accuracy =  75.62 %; Validation Accuracy =  74.53 %\n",
            "At Epoch Number: 56; Train Loss= 0.55; Validation Loss= 0.56; Train Accuracy =  75.38 %; Validation Accuracy =  74.53 %\n",
            "At Epoch Number: 57; Train Loss= 0.55; Validation Loss= 0.56; Train Accuracy =  75.36 %; Validation Accuracy =  74.53 %\n",
            "At Epoch Number: 58; Train Loss= 0.55; Validation Loss= 0.56; Train Accuracy =  75.40 %; Validation Accuracy =  74.63 %\n",
            "At Epoch Number: 59; Train Loss= 0.55; Validation Loss= 0.56; Train Accuracy =  75.34 %; Validation Accuracy =  74.58 %\n",
            "At Epoch Number: 60; Train Loss= 0.55; Validation Loss= 0.56; Train Accuracy =  75.53 %; Validation Accuracy =  74.53 %\n",
            "At Epoch Number: 61; Train Loss= 0.55; Validation Loss= 0.56; Train Accuracy =  75.54 %; Validation Accuracy =  74.68 %\n",
            "At Epoch Number: 62; Train Loss= 0.55; Validation Loss= 0.56; Train Accuracy =  76.06 %; Validation Accuracy =  74.68 %\n",
            "At Epoch Number: 63; Train Loss= 0.55; Validation Loss= 0.56; Train Accuracy =  75.46 %; Validation Accuracy =  74.82 %\n",
            "At Epoch Number: 64; Train Loss= 0.55; Validation Loss= 0.56; Train Accuracy =  75.57 %; Validation Accuracy =  74.78 %\n",
            "At Epoch Number: 65; Train Loss= 0.55; Validation Loss= 0.56; Train Accuracy =  75.44 %; Validation Accuracy =  74.78 %\n",
            "At Epoch Number: 66; Train Loss= 0.55; Validation Loss= 0.56; Train Accuracy =  75.42 %; Validation Accuracy =  74.82 %\n",
            "At Epoch Number: 67; Train Loss= 0.55; Validation Loss= 0.56; Train Accuracy =  75.61 %; Validation Accuracy =  74.82 %\n",
            "At Epoch Number: 68; Train Loss= 0.54; Validation Loss= 0.56; Train Accuracy =  75.49 %; Validation Accuracy =  74.78 %\n",
            "At Epoch Number: 69; Train Loss= 0.55; Validation Loss= 0.56; Train Accuracy =  75.48 %; Validation Accuracy =  74.68 %\n",
            "At Epoch Number: 70; Train Loss= 0.54; Validation Loss= 0.56; Train Accuracy =  76.03 %; Validation Accuracy =  74.63 %\n",
            "At Epoch Number: 71; Train Loss= 0.55; Validation Loss= 0.55; Train Accuracy =  75.63 %; Validation Accuracy =  74.68 %\n",
            "At Epoch Number: 72; Train Loss= 0.54; Validation Loss= 0.55; Train Accuracy =  75.82 %; Validation Accuracy =  74.63 %\n",
            "At Epoch Number: 73; Train Loss= 0.55; Validation Loss= 0.55; Train Accuracy =  75.64 %; Validation Accuracy =  74.68 %\n",
            "At Epoch Number: 74; Train Loss= 0.54; Validation Loss= 0.55; Train Accuracy =  76.01 %; Validation Accuracy =  74.82 %\n",
            "At Epoch Number: 75; Train Loss= 0.54; Validation Loss= 0.55; Train Accuracy =  76.01 %; Validation Accuracy =  74.82 %\n",
            "At Epoch Number: 76; Train Loss= 0.54; Validation Loss= 0.55; Train Accuracy =  75.84 %; Validation Accuracy =  74.78 %\n",
            "At Epoch Number: 77; Train Loss= 0.54; Validation Loss= 0.55; Train Accuracy =  75.91 %; Validation Accuracy =  74.78 %\n",
            "At Epoch Number: 78; Train Loss= 0.54; Validation Loss= 0.55; Train Accuracy =  75.93 %; Validation Accuracy =  74.87 %\n",
            "At Epoch Number: 79; Train Loss= 0.54; Validation Loss= 0.55; Train Accuracy =  75.88 %; Validation Accuracy =  74.87 %\n",
            "At Epoch Number: 80; Train Loss= 0.54; Validation Loss= 0.55; Train Accuracy =  76.33 %; Validation Accuracy =  74.87 %\n",
            "At Epoch Number: 81; Train Loss= 0.54; Validation Loss= 0.55; Train Accuracy =  75.99 %; Validation Accuracy =  74.87 %\n",
            "At Epoch Number: 82; Train Loss= 0.54; Validation Loss= 0.55; Train Accuracy =  75.98 %; Validation Accuracy =  74.97 %\n",
            "At Epoch Number: 83; Train Loss= 0.54; Validation Loss= 0.55; Train Accuracy =  76.14 %; Validation Accuracy =  74.92 %\n",
            "At Epoch Number: 84; Train Loss= 0.54; Validation Loss= 0.55; Train Accuracy =  75.97 %; Validation Accuracy =  75.02 %\n",
            "At Epoch Number: 85; Train Loss= 0.54; Validation Loss= 0.55; Train Accuracy =  75.96 %; Validation Accuracy =  74.82 %\n",
            "At Epoch Number: 86; Train Loss= 0.54; Validation Loss= 0.55; Train Accuracy =  76.28 %; Validation Accuracy =  74.97 %\n",
            "At Epoch Number: 87; Train Loss= 0.54; Validation Loss= 0.55; Train Accuracy =  76.24 %; Validation Accuracy =  74.87 %\n",
            "At Epoch Number: 88; Train Loss= 0.54; Validation Loss= 0.55; Train Accuracy =  76.17 %; Validation Accuracy =  74.73 %\n",
            "At Epoch Number: 89; Train Loss= 0.54; Validation Loss= 0.55; Train Accuracy =  76.14 %; Validation Accuracy =  74.82 %\n",
            "At Epoch Number: 90; Train Loss= 0.54; Validation Loss= 0.55; Train Accuracy =  76.37 %; Validation Accuracy =  74.97 %\n",
            "At Epoch Number: 91; Train Loss= 0.54; Validation Loss= 0.55; Train Accuracy =  76.47 %; Validation Accuracy =  74.82 %\n",
            "At Epoch Number: 92; Train Loss= 0.54; Validation Loss= 0.55; Train Accuracy =  76.33 %; Validation Accuracy =  74.82 %\n",
            "At Epoch Number: 93; Train Loss= 0.54; Validation Loss= 0.55; Train Accuracy =  76.15 %; Validation Accuracy =  74.92 %\n",
            "At Epoch Number: 94; Train Loss= 0.54; Validation Loss= 0.55; Train Accuracy =  76.18 %; Validation Accuracy =  74.92 %\n",
            "At Epoch Number: 95; Train Loss= 0.54; Validation Loss= 0.55; Train Accuracy =  76.19 %; Validation Accuracy =  74.68 %\n",
            "At Epoch Number: 96; Train Loss= 0.54; Validation Loss= 0.55; Train Accuracy =  76.45 %; Validation Accuracy =  74.63 %\n",
            "At Epoch Number: 97; Train Loss= 0.54; Validation Loss= 0.55; Train Accuracy =  76.11 %; Validation Accuracy =  74.63 %\n",
            "At Epoch Number: 98; Train Loss= 0.54; Validation Loss= 0.55; Train Accuracy =  76.36 %; Validation Accuracy =  74.73 %\n",
            "At Epoch Number: 99; Train Loss= 0.54; Validation Loss= 0.55; Train Accuracy =  76.38 %; Validation Accuracy =  74.68 %\n",
            "At Epoch Number: 100; Train Loss= 0.54; Validation Loss= 0.55; Train Accuracy =  76.54 %; Validation Accuracy =  74.63 %\n"
          ]
        },
        {
          "output_type": "display_data",
          "data": {
            "text/plain": [
              "<Figure size 432x288 with 1 Axes>"
            ],
            "image/png": "[encoded data removed]"
          },
          "metadata": {
            "needs_background": "light"
          }
        },
        {
          "output_type": "display_data",
          "data": {
            "text/plain": [
              "<Figure size 432x288 with 1 Axes>"
            ],
            "image/png": "[encoded data removed]"
          },
          "metadata": {
            "needs_background": "light"
          }
        }
      ]
    },
    {
      "cell_type": "code",
      "source": [
        "DANObj.predict(testDataLoader)"
      ],
      "metadata": {
        "colab": {
          "base_uri": "https://localhost:8080/"
        },
        "id": "suAwtAeV4Ona",
        "outputId": "9a4e77dc-3d63-4169-e1a5-7fcc01fd6643"
      },
      "execution_count": null,
      "outputs": [
        {
          "output_type": "stream",
          "name": "stdout",
          "text": [
            "\u001b[1mReview Classification Accuracy on Test Data =  75.68  %\u001b[0m\n"
          ]
        }
      ]
    }
  ]
}